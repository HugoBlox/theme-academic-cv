{
 "cells": [
  {
   "cell_type": "markdown",
   "metadata": {},
   "source": [
    "# Heterogeneous Agent Optimal Savings I\n",
    "## Linear Interpolation\n",
    "### By Alan Lujan"
   ]
  },
  {
   "cell_type": "markdown",
   "metadata": {},
   "source": [
    "The Huggett, 1993 model is an ideal starting point for developing heterogeneous agent solution algorithms. This notebook presents standard solution algorithms with a few extensions. \n",
    "\n",
    "First, we import relevant python libraries that will be useful in our calculations. \n",
    "- `interpolation:` provides \"jit\" linear interpolation\n",
    "- `matplotlib:` graph plotting library\n",
    "- `numba`: provides just-in-time compilation for speedy calculation\n",
    "- `numpy:` numerical library for working with arrays and vectorized functions\n",
    "- `quantecon:` provides \"jit\" maximum search\n",
    "- `scipy:` provides root finding algorithm\n",
    "- `time:` enables time keeping "
   ]
  },
  {
   "cell_type": "code",
   "execution_count": 1,
   "metadata": {
    "pycharm": {
     "is_executing": false
    }
   },
   "outputs": [],
   "source": [
    "from time import time  # time keeping\n",
    "\n",
    "import matplotlib.pyplot as plt  # plotting library\n",
    "import numpy as np  # numerical library\n",
    "from interpolation import interp  # linear interpolation\n",
    "from numba import njit  # just-in-time compiling nopython\n",
    "from numba import prange  # parallel range\n",
    "from quantecon.optimize.scalar_maximization import (\n",
    "    brent_max as argmax,\n",
    ")  # finding maximum\n",
    "from scipy.optimize import toms748 as root  # finding roots\n",
    "\n",
    "%matplotlib inline"
   ]
  },
  {
   "cell_type": "markdown",
   "metadata": {},
   "source": [
    "# Introduction\n",
    "\n",
    "The most commonly used function for these models is the constant relative risk aversion (CRRA) specification, where the coefficient of risk aversion is $\\sigma$. When $\\sigma=1$, the limit of the function is $u(c)=\\log(c)$, so in our definition we allow for different cases depending on the parameter. We use a function factory to create a jitted function for the model depending on the value of $\\sigma$.\n",
    "\n",
    "\\begin{equation}\n",
    "\t\t\\begin{gathered}\n",
    "\t\t\\mathbb{E}_0 \\left( \\sum_{t=0}^{\\infty} \\beta^t u(c_t) \\right) \\quad \\text{ where } \\beta \\in (0, 1), \\text{ and}  \\\\\n",
    "\t\tu(c) = \\lim_{\\nu \\to \\sigma} \\frac{c^{1-\\nu}-1}{1-\\nu} \\quad \\text{ where } \\sigma \\ge 1.\n",
    "\t\t\\end{gathered}\n",
    "\\end{equation}"
   ]
  },
  {
   "cell_type": "code",
   "execution_count": 2,
   "metadata": {
    "pycharm": {
     "is_executing": false
    }
   },
   "outputs": [],
   "source": [
    "def utility(σ):\n",
    "    @njit\n",
    "    def log(c):\n",
    "        return np.log(c)\n",
    "\n",
    "    @njit\n",
    "    def iso(c):\n",
    "        return (c ** (1 - σ) - 1) / (1 - σ)\n",
    "\n",
    "    return log if σ == 1.0 else iso"
   ]
  },
  {
   "cell_type": "markdown",
   "metadata": {},
   "source": [
    "The environment is composed of ex-ante identical households with a labor income endowment $w_i$ and a net bond balance of $b$ (savings if positive, debt if negative). The household can then use their total period budget to choose consumption of a non-storable good and next period debt or savings in the form of discount bonds at the price of $q$. Thus the following recursive value function summarizes the household problem:"
   ]
  },
  {
   "cell_type": "markdown",
   "metadata": {},
   "source": [
    "\\begin{equation}\n",
    "    \\begin{gathered}\n",
    "    V(w_i, b;q) = \\underset{(c,b')\\in \\Gamma(w_i,b;q)}{\\max} u(c) + \\beta \\sum_{i=1}^{Nz} \\pi_{ij} V(w_j,b';q) \\\\\n",
    "    \\text{where} \\\\\n",
    "    \\Gamma(w_i,b;q) = \\{(c,b'): c+qb' \\le w_i + b; c \\ge 0; b' \\ge \\underline{b} \\}\n",
    "    \\end{gathered}\n",
    "\\end{equation}"
   ]
  },
  {
   "cell_type": "markdown",
   "metadata": {},
   "source": [
    "The first step in solving the model is creating an object that contains the model parameters. I take advantage of python's object oriented programming to create a class of moodels named HAOS (heterogeneous agent optimal savings) that takes in the following parameters:\n",
    "\n",
    "- $\\sigma \\ge 1$: CRRA parameter of relative risk aversion \n",
    "- $u$: jitted function to override the CRRA utility form, useful for different utility specifications\n",
    "- $\\beta$: household discount factor for future utility of consumption \n",
    "- $\\omega$: the set of possible labor income endowments\n",
    "- $\\pi$: the transition probability matrix for the Markov chain process of labor income\n",
    "- $\\texttt{b\\_bounds}$: the range of bonds over which we solve the value, policy, and distribution functions, where the lower bound serves as the credit limit\n",
    "- $\\texttt{Nb}$: number of grid points used to solve the value function\n",
    "- $\\texttt{N}\\mu$: number of grid points used to solve the distribution function"
   ]
  },
  {
   "cell_type": "code",
   "execution_count": 3,
   "metadata": {
    "pycharm": {
     "is_executing": false
    }
   },
   "outputs": [],
   "source": [
    "# Heterogeneous agent optimal savings\n",
    "class HAOS(object):\n",
    "    def __init__(\n",
    "        self,\n",
    "        σ=1.5,  # CRRA parameter\n",
    "        u=None,  # user defined utility override\n",
    "        β=0.99322,  # discount factor\n",
    "        ω=[0.1, 1.0],  # labor earnings endowment\n",
    "        π=[[0.5, 0.5], [0.075, 0.925]],  # earnings transition matrix\n",
    "        b_bounds=[-4.0, 4.0],  # credit limits\n",
    "        Nb=100,  # number of value function grid points\n",
    "        Nμ=1000,\n",
    "    ):  # number of distribution grid points\n",
    "\n",
    "        self.σ = σ if u is None else None\n",
    "        self.u = utility(σ) if u is None else u\n",
    "        self.β = β\n",
    "        self.ω, self.π = np.array(ω), np.array(π)\n",
    "        blow, bhigh = b_bounds\n",
    "        self.blow, self.bhigh = b_bounds\n",
    "        self.b_bounds = np.array(b_bounds)\n",
    "        Nz = self.ω.size\n",
    "        self.Nz, self.Nb, self.Nμ = Nz, Nb, Nμ\n",
    "\n",
    "        # grid for value and policy functions\n",
    "        self.bgrid = np.geomspace(1, bhigh - blow + 1, Nb) + blow - 1\n",
    "        # grid for distribution\n",
    "        self.μgrid = np.linspace(blow, bhigh, Nμ)\n",
    "\n",
    "        self.init_value()\n",
    "        self.init_distribution()\n",
    "\n",
    "    def init_value(self):\n",
    "        Nz, Nb = self.Nz, self.Nb\n",
    "        self.v, self.g = init_value(Nz, Nb)\n",
    "\n",
    "    def init_distribution(self):\n",
    "        Nz, Nμ = self.Nz, self.Nμ\n",
    "        self.μ, self.ind, self.w = init_distribution(Nz, Nμ)\n",
    "\n",
    "    def set_value(self, v, g):\n",
    "        self.v, self.g = v, g\n",
    "\n",
    "    def set_distribution(self, μ, ind, w):\n",
    "        self.μ, self.ind, self.w = μ, ind, w\n",
    "\n",
    "    def set_solution(self, qstar, Bstar):\n",
    "        self.qstar, self.B = qstar, Bstar"
   ]
  },
  {
   "cell_type": "code",
   "execution_count": 4,
   "metadata": {
    "pycharm": {
     "is_executing": false
    }
   },
   "outputs": [],
   "source": [
    "@njit\n",
    "def init_value(Nz, Nb):\n",
    "    v = np.zeros((Nz, Nb))\n",
    "    g = np.zeros((Nz, Nb))\n",
    "    return v, g\n",
    "\n",
    "\n",
    "@njit\n",
    "def init_distribution(Nz, Nμ):\n",
    "    μ = np.zeros((Nz, Nμ))\n",
    "    mid = int(Nμ / 2)\n",
    "    val = 1.0 / Nz\n",
    "    μ[:, mid] = np.ones(Nz) * val\n",
    "    ind = np.empty((Nz, Nμ), dtype=np.int64)\n",
    "    w = np.empty((Nz, Nμ)) * np.nan\n",
    "    return μ, ind, w"
   ]
  },
  {
   "cell_type": "markdown",
   "metadata": {},
   "source": [
    "I use a log-spaced grid to solve the value and policy functions, expecting more concavity in the value function near the lower bound, or the credit limit. To solve for the stationary distribution, I use a finer linear grid. Additional helper methods such as $\\texttt{init\\_*}$ and $\\texttt{set\\_*}$ are used to store and clear previous solutions."
   ]
  },
  {
   "cell_type": "markdown",
   "metadata": {},
   "source": [
    "# Value Function Iteration and the $T$ operator\n",
    "\n",
    "To solve the value function, I use value function iteration (VFI) and the $T$ operator, the properties of which are well established in dynamic programming. To avoid having to pass all the model parameters every time we use the T operator, we can use a function factory as described below. \n",
    "\n",
    "The first component is the $\\texttt{objective}$ function, which evaluates the value function at a given proposed next period bond choice, given a price of bonds $q$ and a total period budget $y$. The $T$ operator then uses a golden section search algorithm with inverse parabolic interpolation (Brent, 1973) to evaluate the value function at a range of next period bond choices to find a maximum. \n",
    "\n",
    "Thus, the $T$ operator takes an initial value function defined over the labor income and the bond grid points to produce a new value function. This operator is designed to allow skipping of the maximization search as described in (Judd, 1998). If we provide an already solved policy function $g$, the operator skips the max search and just evaluates the value of the current state. This option will be used later to speed up VFI. "
   ]
  },
  {
   "cell_type": "markdown",
   "metadata": {},
   "source": [
    "\\begin{equation}\n",
    "    (Tv)(\\omega_i, b) = \\underset{(c,b')\\in \\Gamma(\\omega_i,b;q)}{\\max} u(c) + \\beta \\sum_{i=1}^{Nz} \\pi_{ij} v(\\omega_j,b';q)\n",
    "\\end{equation}"
   ]
  },
  {
   "cell_type": "code",
   "execution_count": 5,
   "metadata": {
    "pycharm": {
     "is_executing": false
    }
   },
   "outputs": [],
   "source": [
    "def T_operator(model, use_parallel=True):\n",
    "\n",
    "    u, β = model.u, model.β\n",
    "    ω, π = model.ω, model.π\n",
    "    blow, bhigh = model.blow, model.bhigh\n",
    "    Nz, Nb = model.Nz, model.Nb\n",
    "    bgrid = model.bgrid\n",
    "\n",
    "    v, g = model.v, model.g\n",
    "\n",
    "    @njit\n",
    "    def objective(bp, q, y, Evz):\n",
    "        c = y - q * bp\n",
    "        if c <= 0.0:\n",
    "            return -1e16\n",
    "        Ev = interp(bgrid, Evz, bp)\n",
    "        return u(c) + β * Ev\n",
    "\n",
    "    @njit(parallel=use_parallel)\n",
    "    def T(v, q, g=g, solve=True, max_tol=1e-5, max_iter=500):\n",
    "\n",
    "        v_new = np.empty_like(v)\n",
    "        g_new = np.empty_like(g) if solve else g\n",
    "\n",
    "        Ev = π @ v\n",
    "\n",
    "        for bi in prange(Nb):\n",
    "            for zi in prange(Nz):\n",
    "                y = bgrid[bi] + ω[zi]\n",
    "                if solve:\n",
    "                    bphigh = np.maximum(blow, np.minimum(bhigh, y / q))\n",
    "                    if bphigh <= blow:\n",
    "                        b_max = blow\n",
    "                        v_max = objective(b_max, q, y, Ev[zi])\n",
    "                    else:\n",
    "                        b_max, v_max, _ = argmax(\n",
    "                            objective,\n",
    "                            blow,\n",
    "                            bphigh,\n",
    "                            args=(q, y, Ev[zi]),\n",
    "                            xtol=max_tol,\n",
    "                            maxiter=max_iter,\n",
    "                        )\n",
    "                    v_new[zi, bi] = v_max\n",
    "                    g_new[zi, bi] = b_max\n",
    "                else:\n",
    "                    v_new[zi, bi] = objective(g[zi, bi], q, y, Ev[zi])\n",
    "\n",
    "        return v_new, g_new\n",
    "\n",
    "    T(v, 1.0, g, True, 1e-5, 500)\n",
    "\n",
    "    return T"
   ]
  },
  {
   "cell_type": "markdown",
   "metadata": {},
   "source": [
    "There is an important extension embedded in the $T$ operator above. Whereas in Huggett 1993 the credit limit is picked such that $\\underline{b} > \\frac{-w_1}{1-q}$ to ensure that any debt can be repaid feasibly, this $T$ operator allows for arbitrarily large credit limits. While this in theory means that agents can borrow more than the maximum amount they can repay, the value function is highly negative when consumption is less than or equal to 0. This induces endogenous and idyosincratic borrowing constraints, such that agents self enforce their borrowing limits even if credit limits are large. \n",
    "\n",
    "The $\\texttt{solve\\_model}$ subroutine solves the value function by VFI. To do so, it repeatedly uses the $T$ operator defined above to derive the optimal policy, and avoids the costly optimal policy computation when the optimal policy function has reached some level of numerical convergence. The $T$ operator was also designed to take advantage of parallelized computation, so this is an option for solving that we use to compare the efficiency of parallel computing. \n",
    "\n",
    "- $\\texttt{use\\_parallel}$: if $\\texttt{True}$, computations are performed in parallel\n",
    "- $\\texttt{use\\_existing}$: if $\\texttt{True}$, the value function uses a pre-solved value function, which might be useful if we have solved the value function before\n",
    "- $\\texttt{tol}$: the subroutine stops when $|Tv-v|\\le \\texttt{tol}$\n",
    "- $\\texttt{max\\_iter}$: the subroutine stops at a maximum number of loops to avoid infinite looping\n",
    "- $\\texttt{skip\\_policy}$: if $\\texttt{True}$, the subroutine skips policy evaluation when $|g_{t+1}-g_{t}| \\le \\texttt{tol}*0.1$\n",
    "- $\\texttt{solve\\_skip}$: when the subroutine skips policy evaluation, it re-evaluates policy after a set number of iterations\n",
    "- $\\texttt{verbose}$: optional print argument to see if VFI error is decreasing (debug)\n",
    "- $\\texttt{print\\_skip}$: avoid printing every single iteration, instead only print error every $\\texttt{print\\_skip}$ iterations\n"
   ]
  },
  {
   "cell_type": "code",
   "execution_count": 6,
   "metadata": {
    "pycharm": {
     "is_executing": false
    }
   },
   "outputs": [],
   "source": [
    "def solve_value(\n",
    "    model,\n",
    "    T,\n",
    "    q,\n",
    "    use_parallel=True,\n",
    "    use_existing=False,\n",
    "    tol=1e-4,\n",
    "    max_iter=2000,\n",
    "    T_tol=1e-5,\n",
    "    T_max_iter=500,\n",
    "    skip_policy=False,\n",
    "    solve_skip=100,\n",
    "    verbose=True,\n",
    "    print_skip=100,\n",
    "):\n",
    "\n",
    "    start = time()\n",
    "\n",
    "    if not use_existing:\n",
    "        model.init_value()\n",
    "\n",
    "    v, g = model.v, model.g\n",
    "\n",
    "    i = 0\n",
    "    skipped = 0\n",
    "    solved = 0\n",
    "    error = tol + 1.0\n",
    "    g_err = tol + 1.0\n",
    "    solve = True\n",
    "\n",
    "    while i < max_iter and (error > tol or g_err > tol * 0.1):\n",
    "\n",
    "        v_new, g_new = T(v, q, g, solve, T_tol, T_max_iter)\n",
    "        error = np.max(np.abs(v - v_new))\n",
    "        g_err = np.max(np.abs(g - g_new))\n",
    "        v, g = v_new, g_new\n",
    "        i += 1\n",
    "\n",
    "        if solve:\n",
    "            solved += 1\n",
    "\n",
    "        if skip_policy:\n",
    "\n",
    "            if g_err < tol * 0.1 and skipped < solve_skip and error > 2 * tol:\n",
    "                solve = False\n",
    "                skipped += 1\n",
    "            else:\n",
    "                solve = True\n",
    "                skipped = 0\n",
    "\n",
    "        if verbose and i % print_skip == 0:\n",
    "            print(f\"Value error at iteration {i} is {error:.4e}.\")\n",
    "            if solve:\n",
    "                print(f\"-- Policy error at iteration {solved} is {g_err:.4e}.\")\n",
    "\n",
    "    end = time()\n",
    "\n",
    "    runtime = end - start\n",
    "\n",
    "    if i == max_iter:\n",
    "        print(\"Failed to converge!\")\n",
    "\n",
    "    if verbose and i < max_iter:\n",
    "        print(f\"Value error at iteration {i} is {error:.4e}.\")\n",
    "        print(f\"-- Policy error at iteration {solved} is {g_err:.4e}.\\n\")\n",
    "        print(f\"Value converged in {i} iterations and {runtime:.4f} seconds.\\n\")\n",
    "\n",
    "    model.set_value(v, g)\n",
    "\n",
    "    return v, g"
   ]
  },
  {
   "cell_type": "markdown",
   "metadata": {},
   "source": [
    "To start calculation, we instanciate a HAOS object called model with default parameters. Notice that the HAOS class is flexible an allows an override of parameters to experiment with different specifications."
   ]
  },
  {
   "cell_type": "code",
   "execution_count": 7,
   "metadata": {
    "pycharm": {
     "is_executing": false
    }
   },
   "outputs": [],
   "source": [
    "model = HAOS()"
   ]
  },
  {
   "cell_type": "markdown",
   "metadata": {},
   "source": [
    "Now, to solve for the value function, we create a $T$ operator for the model and use parallel computation. "
   ]
  },
  {
   "cell_type": "code",
   "execution_count": 8,
   "metadata": {
    "pycharm": {
     "is_executing": false
    }
   },
   "outputs": [],
   "source": [
    "T = T_operator(model)"
   ]
  },
  {
   "cell_type": "markdown",
   "metadata": {},
   "source": [
    "We can now solve the value function given a price of bonds. For simplicity, lets use $q=1$ and use the $\\texttt{skip\\_policy}$ option."
   ]
  },
  {
   "cell_type": "code",
   "execution_count": 9,
   "metadata": {
    "pycharm": {
     "is_executing": false
    }
   },
   "outputs": [
    {
     "name": "stdout",
     "output_type": "stream",
     "text": [
      "Value error at iteration 100 is 8.4790e-02.\n",
      "-- Policy error at iteration 100 is 1.2247e-04.\n",
      "Value error at iteration 200 is 4.2858e-02.\n",
      "Value error at iteration 300 is 2.1705e-02.\n",
      "Value error at iteration 400 is 1.0993e-02.\n",
      "Value error at iteration 500 is 5.5675e-03.\n",
      "Value error at iteration 600 is 2.8197e-03.\n",
      "Value error at iteration 700 is 1.4281e-03.\n",
      "Value error at iteration 800 is 7.2326e-04.\n",
      "Value error at iteration 900 is 3.6630e-04.\n",
      "Value error at iteration 1000 is 1.8552e-04.\n",
      "-- Policy error at iteration 166 is 2.6750e-10.\n",
      "Value error at iteration 1091 is 9.9891e-05.\n",
      "-- Policy error at iteration 257 is 2.1690e-07.\n",
      "\n",
      "Value converged in 1091 iterations and 0.1243 seconds.\n",
      "\n"
     ]
    }
   ],
   "source": [
    "v, g = solve_value(model, T, 1.0, skip_policy=True)"
   ]
  },
  {
   "cell_type": "code",
   "execution_count": 10,
   "metadata": {
    "pycharm": {
     "is_executing": false
    }
   },
   "outputs": [
    {
     "data": {
      "image/png": "[encoded data removed]",
      "text/plain": [
       "<Figure size 432x288 with 1 Axes>"
      ]
     },
     "metadata": {
      "needs_background": "light"
     },
     "output_type": "display_data"
    }
   ],
   "source": [
    "plt.plot(model.bgrid, v.T);"
   ]
  },
  {
   "cell_type": "markdown",
   "metadata": {},
   "source": [
    "The value function converges quickly, and we can plot the conditional value function based on labor income draw above. \n",
    "\n",
    "We have assumed that parallel computation is more efficient, but this is not always the case, as parallel computing usually requires some overhead computation time and memory, as well as good programming decisions. To check if indeed parallel computation is desirable, we can create a $T$ operator that does not use parallelization, and compare computation time."
   ]
  },
  {
   "cell_type": "code",
   "execution_count": 11,
   "metadata": {
    "pycharm": {
     "is_executing": false
    }
   },
   "outputs": [],
   "source": [
    "T_np = T_operator(model, use_parallel=False)"
   ]
  },
  {
   "cell_type": "code",
   "execution_count": 12,
   "metadata": {
    "pycharm": {
     "is_executing": false
    }
   },
   "outputs": [
    {
     "name": "stdout",
     "output_type": "stream",
     "text": [
      "138 ms ± 2.78 ms per loop (mean ± std. dev. of 7 runs, 10 loops each)\n"
     ]
    }
   ],
   "source": [
    "%%timeit\n",
    "solve_value(model, T, 1.0, skip_policy=True, verbose=False)"
   ]
  },
  {
   "cell_type": "code",
   "execution_count": 13,
   "metadata": {
    "pycharm": {
     "is_executing": false
    }
   },
   "outputs": [
    {
     "name": "stdout",
     "output_type": "stream",
     "text": [
      "104 ms ± 750 µs per loop (mean ± std. dev. of 7 runs, 10 loops each)\n"
     ]
    }
   ],
   "source": [
    "%%timeit\n",
    "solve_value(model, T_np, 1.0, skip_policy=True, verbose=False)"
   ]
  },
  {
   "cell_type": "markdown",
   "metadata": {},
   "source": [
    "As we see above, parallel computation is on average a few microseconds faster, and I believe in more complex models the advantages are more significant. This result varies depending on your hardware and other processes going on in your system.\n",
    "\n",
    "We have now developed a sub-routine that is able to quickly solve the value and policy functions, given a price of bonds. "
   ]
  },
  {
   "cell_type": "markdown",
   "metadata": {},
   "source": [
    "# The stationary distribution and the $G$ operator\n",
    "\n",
    "\\begin{equation}\n",
    "    (G\\mu)(B) = \\int_S P(s,B)d\\mu \\text{ for } B \\in \\beta_S\n",
    "\\end{equation}"
   ]
  },
  {
   "cell_type": "code",
   "execution_count": 14,
   "metadata": {
    "pycharm": {
     "is_executing": false
    }
   },
   "outputs": [],
   "source": [
    "def G_operator(model, parallel_flag=True):\n",
    "\n",
    "    π = model.π\n",
    "    Nz, Nμ = model.Nz, model.Nμ\n",
    "    bgrid, μgrid = model.bgrid, model.μgrid\n",
    "\n",
    "    μ, g = model.μ, model.g\n",
    "    ind, w = model.ind, model.w\n",
    "\n",
    "    @njit\n",
    "    def interpgrid(g):\n",
    "\n",
    "        grid = np.empty((Nz, Nμ))\n",
    "\n",
    "        for zi in range(Nz):\n",
    "            grid[zi] = interp(bgrid, g[zi], μgrid)\n",
    "\n",
    "        return grid\n",
    "\n",
    "    @njit\n",
    "    def weight(x, ind):\n",
    "\n",
    "        next = np.take(μgrid, ind)\n",
    "        prev = np.take(μgrid, ind - 1)\n",
    "\n",
    "        return (x - prev) / (next - prev)\n",
    "\n",
    "    @njit\n",
    "    def get_weights(g):\n",
    "\n",
    "        gμ = interpgrid(g)\n",
    "        ind = np.searchsorted(μgrid, gμ)\n",
    "        ind = np.where(ind == 0, 1, ind)\n",
    "        ind = np.where(ind == Nμ, Nμ - 1, ind)\n",
    "        w = weight(gμ, ind)\n",
    "\n",
    "        return ind, w\n",
    "\n",
    "    @njit\n",
    "    def G(μ, ind, w, g=g):\n",
    "\n",
    "        μ_new = np.zeros_like(μ)\n",
    "\n",
    "        if np.isnan(w[0, 0]):\n",
    "            ind, w = get_weights(g)\n",
    "\n",
    "        for zi in range(Nz):\n",
    "            for bi in range(Nμ):\n",
    "                if μ[zi, bi] > 0.0:\n",
    "\n",
    "                    bj = ind[zi, bi]\n",
    "                    wb = w[zi, bi]\n",
    "\n",
    "                    for zj in range(Nz):\n",
    "                        μ_new[zj, bj] += wb * π[zi, zj] * μ[zi, bi]\n",
    "                        μ_new[zj, bj - 1] += (1 - wb) * π[zi, zj] * μ[zi, bi]\n",
    "\n",
    "        return μ_new, ind, w\n",
    "\n",
    "    G(μ, ind, w, g)\n",
    "\n",
    "    return G"
   ]
  },
  {
   "cell_type": "markdown",
   "metadata": {},
   "source": [
    "- $\\texttt{use\\_existing}$:\n",
    "- $\\texttt{tol}$:\n",
    "- $\\texttt{max\\_iter}$:\n",
    "- $\\texttt{verbose}$:\n",
    "- $\\texttt{print\\_skip}$:"
   ]
  },
  {
   "cell_type": "code",
   "execution_count": 15,
   "metadata": {
    "pycharm": {
     "is_executing": false
    }
   },
   "outputs": [],
   "source": [
    "def solve_distribution(\n",
    "    model, G, use_existing=False, tol=1e-5, max_iter=2000, verbose=True, print_skip=25\n",
    "):\n",
    "\n",
    "    start = time()\n",
    "\n",
    "    if not use_existing:\n",
    "        model.init_distribution()\n",
    "\n",
    "    μ, g = model.μ, model.g\n",
    "    ind, w = model.ind, model.w\n",
    "\n",
    "    i = 0\n",
    "    error = tol + 1\n",
    "\n",
    "    while i < max_iter and error > tol:\n",
    "        μ_new, ind, w = G(μ, ind, w, g)\n",
    "        error = np.max(np.abs(μ_new - μ))\n",
    "        μ = μ_new / np.sum(μ_new)\n",
    "        i += 1\n",
    "\n",
    "        if verbose and i % print_skip == 0:\n",
    "            print(f\"Distribution error at iteration {i} is {error:.4e}.\")\n",
    "\n",
    "    end = time()\n",
    "\n",
    "    runtime = end - start\n",
    "\n",
    "    if i == max_iter:\n",
    "        print(\"Failed to converge!\")\n",
    "\n",
    "    if verbose and i < max_iter:\n",
    "        print(f\"Distribution error at iteration {i} is {error:.4e}.\\n\")\n",
    "        print(f\"Distribution converged in {i} iterations and {runtime:.4f} seconds.\\n\")\n",
    "\n",
    "    model.set_distribution(μ, ind, w)\n",
    "    return μ"
   ]
  },
  {
   "cell_type": "code",
   "execution_count": 16,
   "metadata": {
    "pycharm": {
     "is_executing": false
    }
   },
   "outputs": [],
   "source": [
    "G = G_operator(model)"
   ]
  },
  {
   "cell_type": "code",
   "execution_count": 17,
   "metadata": {
    "pycharm": {
     "is_executing": false
    }
   },
   "outputs": [
    {
     "name": "stdout",
     "output_type": "stream",
     "text": [
      "Distribution error at iteration 25 is 2.0038e-02.\n",
      "Distribution error at iteration 50 is 1.3703e-03.\n",
      "Distribution error at iteration 75 is 1.0302e-04.\n",
      "Distribution error at iteration 91 is 9.8976e-06.\n",
      "\n",
      "Distribution converged in 91 iterations and 0.0091 seconds.\n",
      "\n"
     ]
    }
   ],
   "source": [
    "μ = solve_distribution(model, G)"
   ]
  },
  {
   "cell_type": "code",
   "execution_count": 18,
   "metadata": {
    "pycharm": {
     "is_executing": false
    }
   },
   "outputs": [
    {
     "data": {
      "image/png": "[encoded data removed]",
      "text/plain": [
       "<Figure size 432x288 with 1 Axes>"
      ]
     },
     "metadata": {
      "needs_background": "light"
     },
     "output_type": "display_data"
    }
   ],
   "source": [
    "plt.plot(model.μgrid, μ.T);"
   ]
  },
  {
   "cell_type": "code",
   "execution_count": 19,
   "metadata": {
    "pycharm": {
     "is_executing": false
    }
   },
   "outputs": [],
   "source": [
    "def A_operator(model):\n",
    "\n",
    "    μ, μgrid = model.μ, model.μgrid\n",
    "\n",
    "    @njit\n",
    "    def A(μ):\n",
    "        return np.sum(μ @ μgrid)\n",
    "\n",
    "    A(μ)\n",
    "\n",
    "    return A"
   ]
  },
  {
   "cell_type": "markdown",
   "metadata": {},
   "source": [
    "# Solving the model"
   ]
  },
  {
   "cell_type": "code",
   "execution_count": 20,
   "metadata": {
    "pycharm": {
     "is_executing": false
    }
   },
   "outputs": [],
   "source": [
    "def solve_model(\n",
    "    model,\n",
    "    T,\n",
    "    G,\n",
    "    A,\n",
    "    q_bounds=None,\n",
    "    tol=1e-4,\n",
    "    max_iter=2000,\n",
    "    reset=True,\n",
    "    use_existing=False,\n",
    "    skip_policy=False,\n",
    "    solve_skip=100,\n",
    "    verbose=\"all\",\n",
    "    print_skip=100,\n",
    "):\n",
    "\n",
    "    start = time()\n",
    "\n",
    "    if q_bounds is None:\n",
    "        q_bounds = [model.β, 1 / model.β]\n",
    "\n",
    "    verb = verbose == \"all\"\n",
    "\n",
    "    qlow, qhigh = q_bounds\n",
    "\n",
    "    if reset:\n",
    "        model.init_value()\n",
    "        model.init_distribution()\n",
    "\n",
    "    def objective(q):\n",
    "\n",
    "        if verbose == \"all\" or verbose == \"summary\":\n",
    "            print(f\"Evaluating solution at q = {q:.6f}.\\n\")\n",
    "\n",
    "        v, g = solve_value(\n",
    "            model,\n",
    "            T,\n",
    "            q,\n",
    "            tol=tol,\n",
    "            max_iter=max_iter,\n",
    "            use_existing=use_existing,\n",
    "            skip_policy=skip_policy,\n",
    "            solve_skip=solve_skip,\n",
    "            verbose=verb,\n",
    "            print_skip=print_skip,\n",
    "        )\n",
    "\n",
    "        μ = solve_distribution(\n",
    "            model,\n",
    "            G,\n",
    "            tol=tol * 0.1,\n",
    "            max_iter=max_iter,\n",
    "            use_existing=False,\n",
    "            verbose=verb,\n",
    "            print_skip=int(print_skip / 4),\n",
    "        )\n",
    "        B = A(μ)\n",
    "\n",
    "        if verbose == \"all\" or verbose == \"summary\":\n",
    "            print(f\"The aggregate balance for q = {q:.6f} is B = {B:.6f}.\\n\")\n",
    "            print(\"-------------------------------------------------------\\n\")\n",
    "\n",
    "        return B\n",
    "\n",
    "    qstar, result = root(objective, qlow, qhigh, xtol=tol * 0.1, full_output=True)\n",
    "\n",
    "    Bstar = objective(qstar)\n",
    "\n",
    "    iters = result.function_calls + 1\n",
    "\n",
    "    end = time()\n",
    "\n",
    "    runtime = end - start\n",
    "\n",
    "    print(f\"Model converged in {iters} iterations and {runtime:.4f} seconds.\")\n",
    "\n",
    "    model.set_solution(qstar, Bstar)\n",
    "\n",
    "    return qstar, Bstar"
   ]
  },
  {
   "cell_type": "code",
   "execution_count": 21,
   "metadata": {
    "pycharm": {
     "is_executing": false
    }
   },
   "outputs": [],
   "source": [
    "A = A_operator(model)"
   ]
  },
  {
   "cell_type": "code",
   "execution_count": 22,
   "metadata": {
    "pycharm": {
     "is_executing": false
    }
   },
   "outputs": [
    {
     "name": "stdout",
     "output_type": "stream",
     "text": [
      "Evaluating solution at q = 0.993220.\n",
      "\n",
      "The aggregate balance for q = 0.993220 is B = 2.052284.\n",
      "\n",
      "-------------------------------------------------------\n",
      "\n",
      "Evaluating solution at q = 1.006826.\n",
      "\n",
      "The aggregate balance for q = 1.006826 is B = -1.600514.\n",
      "\n",
      "-------------------------------------------------------\n",
      "\n",
      "Evaluating solution at q = 1.000865.\n",
      "\n",
      "The aggregate balance for q = 1.000865 is B = -0.765006.\n",
      "\n",
      "-------------------------------------------------------\n",
      "\n",
      "Evaluating solution at q = 0.998150.\n",
      "\n",
      "The aggregate balance for q = 0.998150 is B = -0.062666.\n",
      "\n",
      "-------------------------------------------------------\n",
      "\n",
      "Evaluating solution at q = 0.997858.\n",
      "\n",
      "The aggregate balance for q = 0.997858 is B = 0.040579.\n",
      "\n",
      "-------------------------------------------------------\n",
      "\n",
      "Evaluating solution at q = 0.997970.\n",
      "\n",
      "The aggregate balance for q = 0.997970 is B = 0.000295.\n",
      "\n",
      "-------------------------------------------------------\n",
      "\n",
      "Evaluating solution at q = 0.997972.\n",
      "\n",
      "The aggregate balance for q = 0.997972 is B = -0.000296.\n",
      "\n",
      "-------------------------------------------------------\n",
      "\n",
      "Evaluating solution at q = 0.997971.\n",
      "\n",
      "The aggregate balance for q = 0.997971 is B = 0.000000.\n",
      "\n",
      "-------------------------------------------------------\n",
      "\n",
      "Model converged in 8 iterations and 2.2304 seconds.\n"
     ]
    },
    {
     "data": {
      "text/plain": [
       "(0.997971053979755, 1.3600828877025073e-07)"
      ]
     },
     "execution_count": 22,
     "metadata": {},
     "output_type": "execute_result"
    }
   ],
   "source": [
    "solve_model(model, T, G, A, verbose=\"summary\")"
   ]
  },
  {
   "cell_type": "code",
   "execution_count": 23,
   "metadata": {
    "pycharm": {
     "is_executing": false
    }
   },
   "outputs": [
    {
     "data": {
      "image/png": "[encoded data removed]",
      "text/plain": [
       "<Figure size 432x288 with 1 Axes>"
      ]
     },
     "metadata": {
      "needs_background": "light"
     },
     "output_type": "display_data"
    }
   ],
   "source": [
    "plt.plot(model.μgrid, model.μ.T);"
   ]
  },
  {
   "cell_type": "code",
   "execution_count": 24,
   "metadata": {
    "pycharm": {
     "is_executing": false
    }
   },
   "outputs": [
    {
     "name": "stdout",
     "output_type": "stream",
     "text": [
      "Model converged in 8 iterations and 1.1519 seconds.\n"
     ]
    },
    {
     "data": {
      "text/plain": [
       "(0.99797105445102, -3.121781626258535e-08)"
      ]
     },
     "execution_count": 24,
     "metadata": {},
     "output_type": "execute_result"
    }
   ],
   "source": [
    "solve_model(model, T, G, A, skip_policy=True, verbose=False)"
   ]
  },
  {
   "cell_type": "code",
   "execution_count": 25,
   "metadata": {
    "pycharm": {
     "is_executing": false
    }
   },
   "outputs": [
    {
     "name": "stdout",
     "output_type": "stream",
     "text": [
      "Model converged in 10 iterations and 0.6101 seconds.\n"
     ]
    },
    {
     "data": {
      "text/plain": [
       "(0.997971371090888, -0.001244835981068601)"
      ]
     },
     "execution_count": 25,
     "metadata": {},
     "output_type": "execute_result"
    }
   ],
   "source": [
    "solve_model(model, T, G, A, skip_policy=True, verbose=False, use_existing=True)"
   ]
  },
  {
   "cell_type": "markdown",
   "metadata": {
    "toc-hr-collapsed": false
   },
   "source": [
    "# References\n",
    "\n",
    "Huggett, M. (1993). The risk-free rate in heterogeneous-agent incomplete-insurance economies. Journal of Economic Dynamics and Control, 17(5-6):953-969"
   ]
  }
 ],
 "metadata": {
  "kernel_info": {
   "name": "python3"
  },
  "kernelspec": {
   "display_name": "Python 3",
   "language": "python",
   "name": "python3"
  },
  "language_info": {
   "codemirror_mode": {
    "name": "ipython",
    "version": 3
   },
   "file_extension": ".py",
   "mimetype": "text/x-python",
   "name": "python",
   "nbconvert_exporter": "python",
   "pygments_lexer": "ipython3",
   "version": "3.7.7"
  },
  "nteract": {
   "version": "0.22.0"
  }
 },
 "nbformat": 4,
 "nbformat_minor": 4
}
